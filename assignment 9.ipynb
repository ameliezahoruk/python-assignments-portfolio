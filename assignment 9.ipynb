{
 "cells": [
  {
   "cell_type": "code",
   "execution_count": 63,
   "id": "32949bc2-1204-4442-a8cc-e5c289749e0c",
   "metadata": {},
   "outputs": [],
   "source": [
    "import sympy as sp\n",
    "import numpy as np\n",
    "import matplotlib.pyplot as plt"
   ]
  },
  {
   "cell_type": "code",
   "execution_count": 3,
   "id": "16548416-ab9f-4180-bf2f-64c8e4abcdfe",
   "metadata": {},
   "outputs": [],
   "source": [
    "x,y = sp.symbols ('x y')"
   ]
  },
  {
   "cell_type": "code",
   "execution_count": 4,
   "id": "62207cd1-9fc6-4bcd-abfd-85c3b6b7dd5e",
   "metadata": {},
   "outputs": [],
   "source": [
    "f = x**2 + sp.sin(y)\n",
    "# Differentiate f with respect to x\n",
    "df_dx = sp.diff(f, x)\n",
    "# Differentiate f with respect to y\n",
    "df_dy = sp.diff(f, y)"
   ]
  },
  {
   "cell_type": "code",
   "execution_count": 23,
   "id": "891f33a4-2bf4-47bc-a04a-4dda82261206",
   "metadata": {},
   "outputs": [
    {
     "name": "stdout",
     "output_type": "stream",
     "text": [
      "the derivative of f with respect to x is:\n"
     ]
    },
    {
     "data": {
      "text/latex": [
       "$\\displaystyle e^{x} \\sin{\\left(y \\right)}$"
      ],
      "text/plain": [
       "exp(x)*sin(y)"
      ]
     },
     "execution_count": 23,
     "metadata": {},
     "output_type": "execute_result"
    }
   ],
   "source": [
    "f = sp.exp(x) * sp.sin(y) + y**3\n",
    "# Differentiate f with respect to x\n",
    "df_dx = sp.diff(f, x)\n",
    "# Differentiate f with respect to y\n",
    "df_dy = sp.diff(f, y)\n",
    "\n",
    "print (\"the derivative of f with respect to x is:\")\n",
    "df_dx"
   ]
  },
  {
   "cell_type": "code",
   "execution_count": 18,
   "id": "9333c7b7-2c69-4c86-8de8-d784c025f202",
   "metadata": {},
   "outputs": [
    {
     "name": "stdout",
     "output_type": "stream",
     "text": [
      "the derivative of f with respect to y is:\n"
     ]
    },
    {
     "data": {
      "text/latex": [
       "$\\displaystyle 3 y^{2} + e^{x} \\cos{\\left(y \\right)}$"
      ],
      "text/plain": [
       "3*y**2 + exp(x)*cos(y)"
      ]
     },
     "execution_count": 18,
     "metadata": {},
     "output_type": "execute_result"
    }
   ],
   "source": [
    "print (\"the derivative of f with respect to y is:\")\n",
    "df_dy"
   ]
  },
  {
   "cell_type": "code",
   "execution_count": 78,
   "id": "63fe954c-5a7f-4786-b4bc-4ed7bb541791",
   "metadata": {
    "scrolled": true
   },
   "outputs": [
    {
     "data": {
      "text/latex": [
       "$\\displaystyle \\left[\\begin{matrix}2 x y + y^{2}\\\\x^{2} + 2 x y\\end{matrix}\\right]$"
      ],
      "text/plain": [
       "Matrix([\n",
       "[2*x*y + y**2],\n",
       "[x**2 + 2*x*y]])"
      ]
     },
     "execution_count": 78,
     "metadata": {},
     "output_type": "execute_result"
    }
   ],
   "source": [
    "g = x**2*y + y**2*x\n",
    "#find the gradient of g\n",
    "dg_dx = sp.diff(g, x)\n",
    "dg_dy = sp.diff(g, y)\n",
    "#display gradient as a matrix (x on top, y on bottom)\n",
    "sp.Matrix([dg_dx,dg_dy])"
   ]
  },
  {
   "cell_type": "code",
   "execution_count": 29,
   "id": "4e51f240-ba6d-48af-ad8d-834d789dcbc2",
   "metadata": {},
   "outputs": [
    {
     "name": "stdout",
     "output_type": "stream",
     "text": [
      "-1 , -1\n"
     ]
    }
   ],
   "source": [
    "#sub in value (1, -1) into gradient!\n",
    "point = {x: 1, y: -1}\n",
    "value_at_x = dg_dx.subs(point)\n",
    "value_at_y = dg_dy.subs(point)\n",
    "\n",
    "print (value_at_x, \",\", value_at_y)"
   ]
  },
  {
   "cell_type": "code",
   "execution_count": 77,
   "id": "a01cab00-978e-4507-8194-3bab65af41b2",
   "metadata": {},
   "outputs": [
    {
     "data": {
      "text/latex": [
       "$\\displaystyle \\left[\\begin{matrix}- \\frac{4 x^{2}}{\\left(x^{2} + y^{2}\\right)^{2}} + \\frac{2}{x^{2} + y^{2}} & - \\frac{4 y^{2}}{\\left(x^{2} + y^{2}\\right)^{2}} + \\frac{2}{x^{2} + y^{2}}\\\\- \\frac{4 x y}{\\left(x^{2} + y^{2}\\right)^{2}} & - \\frac{4 x y}{\\left(x^{2} + y^{2}\\right)^{2}}\\end{matrix}\\right]$"
      ],
      "text/plain": [
       "Matrix([\n",
       "[-4*x**2/(x**2 + y**2)**2 + 2/(x**2 + y**2), -4*y**2/(x**2 + y**2)**2 + 2/(x**2 + y**2)],\n",
       "[                   -4*x*y/(x**2 + y**2)**2,                    -4*x*y/(x**2 + y**2)**2]])"
      ]
     },
     "execution_count": 77,
     "metadata": {},
     "output_type": "execute_result"
    }
   ],
   "source": [
    "#define the function\n",
    "h = sp.log(x**2 + y**2)\n",
    "#finding the second mixed and unmixed partials\n",
    "second_partial_x = sp.diff((sp.diff(h, x)), x)\n",
    "second_partial_y = sp.diff((sp.diff(h, y)), y)\n",
    "second_partial_xy = sp.diff((sp.diff(h, x)), y)\n",
    "second_partial_yx = sp.diff((sp.diff(h, y)), x)\n",
    "#can show them as a matrix\n",
    "sp.Matrix([[second_partial_x, second_partial_y],[second_partial_xy, second_partial_yx]])"
   ]
  },
  {
   "cell_type": "code",
   "execution_count": 56,
   "id": "bff647cb-b8a3-4c3d-a259-ecbe3a6004a0",
   "metadata": {},
   "outputs": [
    {
     "data": {
      "text/latex": [
       "$\\displaystyle - \\frac{4 x^{2}}{\\left(x^{2} + y^{2}\\right)^{2}} + \\frac{2}{x^{2} + y^{2}}$"
      ],
      "text/plain": [
       "-4*x**2/(x**2 + y**2)**2 + 2/(x**2 + y**2)"
      ]
     },
     "execution_count": 56,
     "metadata": {},
     "output_type": "execute_result"
    }
   ],
   "source": [
    "#also put them here for clarity\n",
    "second_partial_x "
   ]
  },
  {
   "cell_type": "code",
   "execution_count": 50,
   "id": "bdef06db-0f3a-4b66-ae90-cc711c2022dd",
   "metadata": {},
   "outputs": [
    {
     "data": {
      "text/latex": [
       "$\\displaystyle - \\frac{4 y^{2}}{\\left(x^{2} + y^{2}\\right)^{2}} + \\frac{2}{x^{2} + y^{2}}$"
      ],
      "text/plain": [
       "-4*y**2/(x**2 + y**2)**2 + 2/(x**2 + y**2)"
      ]
     },
     "execution_count": 50,
     "metadata": {},
     "output_type": "execute_result"
    }
   ],
   "source": [
    "second_partial_y "
   ]
  },
  {
   "cell_type": "code",
   "execution_count": 51,
   "id": "8b5877ef-864d-4a23-8547-892a204003bc",
   "metadata": {},
   "outputs": [
    {
     "data": {
      "text/latex": [
       "$\\displaystyle - \\frac{4 x y}{\\left(x^{2} + y^{2}\\right)^{2}}$"
      ],
      "text/plain": [
       "-4*x*y/(x**2 + y**2)**2"
      ]
     },
     "execution_count": 51,
     "metadata": {},
     "output_type": "execute_result"
    }
   ],
   "source": [
    "second_partial_xy"
   ]
  },
  {
   "cell_type": "code",
   "execution_count": 53,
   "id": "56fb1a99-4f49-47c6-99d0-98d28be3f1c1",
   "metadata": {},
   "outputs": [
    {
     "data": {
      "text/latex": [
       "$\\displaystyle - \\frac{4 x y}{\\left(x^{2} + y^{2}\\right)^{2}}$"
      ],
      "text/plain": [
       "-4*x*y/(x**2 + y**2)**2"
      ]
     },
     "execution_count": 53,
     "metadata": {},
     "output_type": "execute_result"
    }
   ],
   "source": [
    "second_partial_yx"
   ]
  },
  {
   "cell_type": "markdown",
   "id": "ea4a6bd0-9b52-4def-b6a2-3fee020e3b86",
   "metadata": {},
   "source": [
    "Taking the second partial mixed derivative of g for x and then y is the same as taking the second partial mixed derivative of g for y and then x because the functions is symmetrical about x and y, i.e. you could swap the two variables and it would not change the function. Because its behaviour is the same for both variables, swapping which variable the partial mixed derivative takes first does not affect the end result."
   ]
  },
  {
   "cell_type": "code",
   "execution_count": 60,
   "id": "6935cbb7-0ef0-4f92-955f-07875e246b0b",
   "metadata": {},
   "outputs": [
    {
     "data": {
      "image/png": "[encoded data removed]",
      "text/plain": [
       "<Figure size 640x480 with 2 Axes>"
      ]
     },
     "metadata": {},
     "output_type": "display_data"
    }
   ],
   "source": [
    "#defining the function\n",
    "x, y = sp.symbols('x y')\n",
    "j = x**3 - 3*x*y + y**3\n",
    "\n",
    "#converting sympy to numerical function\n",
    "j_func = sp.lambdify((x, y), j, 'numpy')\n",
    "\n",
    "#creating a grid of x and y values and evaluate j on this grid\n",
    "x_vals = np.linspace(-3, 3, 400)\n",
    "y_vals = np.linspace(-3, 3, 400)\n",
    "X, Y = np.meshgrid(x_vals, y_vals)\n",
    "Z = j_func(X, Y)\n",
    "\n",
    "#plotting the contour:\n",
    "plt.contourf(X, Y, Z, levels=50, cmap='viridis')\n",
    "plt.colorbar()\n",
    "plt.title('Contour plot of $j(x, y) = x^3 - 3xy + y^3$')\n",
    "plt.xlabel('$x$')\n",
    "plt.ylabel('$y$')\n",
    "plt.show()"
   ]
  },
  {
   "cell_type": "code",
   "execution_count": 83,
   "id": "c41fe6b6-8dca-4346-a1c7-6d4fdafc3172",
   "metadata": {},
   "outputs": [
    {
     "data": {
      "image/png": "[encoded data removed]",
      "text/plain": [
       "<Figure size 640x480 with 2 Axes>"
      ]
     },
     "metadata": {},
     "output_type": "display_data"
    }
   ],
   "source": [
    "#defining the function\n",
    "x, y = sp.symbols('x y')\n",
    "k = sp.sqrt(x**2 + y**2)\n",
    "\n",
    "#converting sympy to numerical function\n",
    "k_func = sp.lambdify((x, y), j, 'numpy')\n",
    "\n",
    "#creating a grid of x and y values and evaluate j on this grid\n",
    "x_vals = np.linspace(-3, 3, 400)\n",
    "y_vals = np.linspace(-3, 3, 400)\n",
    "X, Y = np.meshgrid(x_vals, y_vals)\n",
    "Z = k_func(X, Y)\n",
    "\n",
    "#plotting the contour:\n",
    "plt.contourf(X, Y, Z, levels=50, cmap='magma')\n",
    "plt.colorbar()\n",
    "plt.title('Contour plot of $k(x, y) = \\sqrt{x^2 + y^2}$')\n",
    "plt.xlabel('$x$')\n",
    "plt.ylabel('$y$')\n",
    "plt.show()"
   ]
  },
  {
   "cell_type": "code",
   "execution_count": null,
   "id": "ceb5dad6-d110-4206-8a46-d994ac90dddb",
   "metadata": {},
   "outputs": [],
   "source": []
  },
  {
   "cell_type": "code",
   "execution_count": 19,
   "id": "af0fd7ef-a24a-4ce3-a367-4f068236a61c",
   "metadata": {},
   "outputs": [
    {
     "data": {
      "text/latex": [
       "$\\displaystyle \\left[\\begin{matrix}e^{x} \\sin{\\left(y \\right)}\\\\3 y^{2} + e^{x} \\cos{\\left(y \\right)}\\end{matrix}\\right]$"
      ],
      "text/plain": [
       "Matrix([\n",
       "[         exp(x)*sin(y)],\n",
       "[3*y**2 + exp(x)*cos(y)]])"
      ]
     },
     "execution_count": 19,
     "metadata": {},
     "output_type": "execute_result"
    }
   ],
   "source": [
    "sp.Matrix([df_dx,df_dy])"
   ]
  },
  {
   "cell_type": "code",
   "execution_count": 21,
   "id": "6562cebc-2c02-473f-9adb-ff73f1346563",
   "metadata": {},
   "outputs": [
    {
     "data": {
      "text/latex": [
       "$\\displaystyle \\left[\\begin{matrix}a & b\\\\c & d\\end{matrix}\\right]$"
      ],
      "text/plain": [
       "Matrix([\n",
       "[a, b],\n",
       "[c, d]])"
      ]
     },
     "execution_count": 21,
     "metadata": {},
     "output_type": "execute_result"
    }
   ],
   "source": [
    "a, b, c, d = sp.symbols('a b c d')\n",
    "sp.Matrix([[a,b],[c,d]])"
   ]
  }
 ],
 "metadata": {
  "kernelspec": {
   "display_name": "Python 3 (ipykernel)",
   "language": "python",
   "name": "python3"
  },
  "language_info": {
   "codemirror_mode": {
    "name": "ipython",
    "version": 3
   },
   "file_extension": ".py",
   "mimetype": "text/x-python",
   "name": "python",
   "nbconvert_exporter": "python",
   "pygments_lexer": "ipython3",
   "version": "3.11.4"
  }
 },
 "nbformat": 4,
 "nbformat_minor": 5
}

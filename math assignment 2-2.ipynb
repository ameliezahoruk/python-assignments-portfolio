{
 "cells": [
  {
   "cell_type": "code",
   "execution_count": 4,
   "id": "45d82703-73d5-42d2-ba23-c4935c826d48",
   "metadata": {},
   "outputs": [
    {
     "name": "stdout",
     "output_type": "stream",
     "text": [
      "0\n"
     ]
    }
   ],
   "source": [
    "import numpy as np #import math library\n",
    "\n",
    "##here are our ugly functions!\n",
    "def first_function(x): \n",
    "    return (np.e**x)+(np.log(x)) #defining our function of which we are finding the roots\n",
    "\n",
    "def second_function(x):\n",
    "    return np.arctan(x) - x**2\n",
    "\n",
    "def third_function(x):\n",
    "    return (np.sin(x))/(np.log(x))\n",
    "\n",
    "def fourth_function(x):\n",
    "    return np.log(np.cos(x))\n",
    "    \n",
    "def roots(f,a,b): # defining another function which will take in a function and two end points of an interval\n",
    "    if f(a)==0: \n",
    "        return a # return the lower bound if it is a zero\n",
    "    elif f(b)==0:\n",
    "        return b # return the upper bound if it is a zero\n",
    "    elif f(a)*f(b)>0:\n",
    "        print (\"cannot guarantee an interval here\") # if the y-value of the upper and lower bounds are not above and below 0\n",
    "        # respectively, IVT no longer can guarantee a root\n",
    "        return None\n",
    "    while abs((b-a)/2)>1e-10: #while the condition that the interval between the upper and lower bound is less than 1e-10 is true,\n",
    "        # the code will continue to iterate through the loop\n",
    "        c=(a+b)/2 # this returns the midpoint between a and b\n",
    "        if f(c)==0:\n",
    "            return c #if the midpoint is 0, return it as the root\n",
    "        elif f(a)*f(c)<0: #as long as the y-values surround 0 so IVT can still be used \n",
    "            b = c #set upper bound to be midpoint\n",
    "        else:\n",
    "            a = c #set lower bound to be midpoint\n",
    "    return (a+b)/2 #once the condition is no longer true, returns the midpoint (i.e. approximation of root)\n",
    "    \n",
    "result = (roots(second_function,0,1))\n",
    "if not result == None:\n",
    "    print(result) #prints as long as there is a result"
   ]
  }
 ],
 "metadata": {
  "kernelspec": {
   "display_name": "Python 3 (ipykernel)",
   "language": "python",
   "name": "python3"
  },
  "language_info": {
   "codemirror_mode": {
    "name": "ipython",
    "version": 3
   },
   "file_extension": ".py",
   "mimetype": "text/x-python",
   "name": "python",
   "nbconvert_exporter": "python",
   "pygments_lexer": "ipython3",
   "version": "3.11.4"
  }
 },
 "nbformat": 4,
 "nbformat_minor": 5
}

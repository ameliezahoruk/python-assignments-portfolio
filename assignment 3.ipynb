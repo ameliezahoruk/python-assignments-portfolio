{
 "cells": [
  {
   "cell_type": "code",
   "execution_count": 2,
   "id": "2868ac74-f434-4ee4-ae47-d526a0542b6e",
   "metadata": {},
   "outputs": [
    {
     "name": "stdout",
     "output_type": "stream",
     "text": [
      "The approximated derivative is 1.0 and the linear approximation is 1.0\n",
      "The two values used in the approximation are -0.1448 and 0.1382\n",
      "The absolute value of the error is 0.01 at x1 and 0.01 at x2\n"
     ]
    }
   ],
   "source": [
    "import numpy as np\n",
    "\n",
    "def f(x):\n",
    "    return np.e**x\n",
    "\n",
    "c=0 #value around which the function is being approximated\n",
    "E=0.01 #error bound\n",
    "deltax=10**(-8) #delta x used in central distance method\n",
    "def fprime(x):\n",
    "    return ((f(x+deltax))-(f(x-deltax)))/(2*deltax)\n",
    "def linear(x):\n",
    "    return f(c)+fprime(c)*(x-c)\n",
    "x1=c\n",
    "x2=c\n",
    "d=0.00001\n",
    "n=100000\n",
    "i=0\n",
    "bad = 0\n",
    "incorrect = 0\n",
    "while bad<E:\n",
    "    x1-=d\n",
    "    bad = abs(f(x1)-linear(x1))\n",
    "    if bad>=E:    \n",
    "        break \n",
    "    \n",
    "while incorrect<E:\n",
    "    x2+=d\n",
    "    bad = abs(f(x2)-linear(x2))\n",
    "    if bad>=E:    \n",
    "        break \n",
    "#replace the \"f(x)\" with the desired function :p\n",
    "print (\"The approximated derivative is\", round(fprime(c),4), \"and the linear approximation is\", round(linear(c),4))\n",
    "print (\"The two values used in the approximation are\", round(x1,4), \"and\", round(x2,4))\n",
    "\n",
    "print(\"The absolute value of the error is\", round((abs(f(x1)-linear(x1))),3), \"at x1 and\", round((abs(f(x1)-linear(x1))),3), \"at x2\" )\n"
   ]
  },
  {
   "cell_type": "code",
   "execution_count": 3,
   "id": "a9ebfe23-0d6a-4b9d-98ca-6bd6dd92b99c",
   "metadata": {},
   "outputs": [
    {
     "name": "stdout",
     "output_type": "stream",
     "text": [
      "The approximated derivative is 1.0 and the linear approximation is 0.0\n",
      "The two values used in the approximation are -0.3925 and 0.3925\n",
      "The absolute value of the error is 0.01 at x1 and 0.01 at x2\n"
     ]
    }
   ],
   "source": [
    "import numpy as np\n",
    "##functions! (f(x))\n",
    "\n",
    "def g(x):\n",
    "    return np.sin(x)\n",
    "c=0 #value around which the function is being approximated\n",
    "E=0.01 #error bound\n",
    "deltax=10**(-8) #delta x used in central distance method\n",
    "def fprime(x):\n",
    "    return ((g(x+deltax))-(g(x-deltax)))/(2*deltax)\n",
    "def linear(x):\n",
    "    return g(c)+fprime(c)*(x-c)\n",
    "x1=c\n",
    "x2=c\n",
    "d=0.00001\n",
    "n=100000\n",
    "i=0\n",
    "bad = 0\n",
    "incorrect = 0\n",
    "while bad<E:\n",
    "    x1-=d\n",
    "    bad = abs(g(x1)-linear(x1))\n",
    "    if bad>=E:    \n",
    "        break \n",
    "    \n",
    "while incorrect<E:\n",
    "    x2+=d\n",
    "    bad = abs(g(x2)-linear(x2))\n",
    "    if bad>=E:    \n",
    "        break \n",
    "#replace the \"f(x)\" with the desired function :p\n",
    "print (\"The approximated derivative is\", round(fprime(c),4), \"and the linear approximation is\", round(linear(c),4))\n",
    "print (\"The two values used in the approximation are\", round(x1,4), \"and\", round(x2,4))\n",
    "\n",
    "print(\"The absolute value of the error is\", round((abs(g(x1)-linear(x1))),3), \"at x1 and\", round((abs(g(x1)-linear(x1))),3), \"at x2\" )\n"
   ]
  },
  {
   "cell_type": "code",
   "execution_count": 4,
   "id": "1304f7d3-1b7b-4259-9e8d-384300d65247",
   "metadata": {},
   "outputs": [
    {
     "name": "stdout",
     "output_type": "stream",
     "text": [
      "The approximated derivative is 0.0 and the linear approximation is 0.0\n",
      "The two values used in the approximation are -0.1 and 0.1\n",
      "The absolute value of the error is 0.01 at x1 and 0.01 at x2\n"
     ]
    }
   ],
   "source": [
    "def h(x):\n",
    "    return x**2\n",
    "    \n",
    "c=0 #value around which the function is being approximated\n",
    "E=0.01 #error bound\n",
    "deltax=10**(-8) #delta x used in central distance method\n",
    "def fprime(x):\n",
    "    return ((h(x+deltax))-(h(x-deltax)))/(2*deltax)\n",
    "def linear(x):\n",
    "    return h(c)+fprime(c)*(x-c)\n",
    "x1=c\n",
    "x2=c\n",
    "d=0.00001\n",
    "n=100000\n",
    "i=0\n",
    "bad = 0\n",
    "incorrect = 0\n",
    "while bad<E:\n",
    "    x1-=d\n",
    "    bad = abs(h(x1)-linear(x1))\n",
    "    if bad>=E:    \n",
    "        break \n",
    "    \n",
    "while incorrect<E:\n",
    "    x2+=d\n",
    "    bad = abs(h(x2)-linear(x2))\n",
    "    if bad>=E:    \n",
    "        break \n",
    "        \n",
    "print (\"The approximated derivative is\", round(fprime(c),4), \"and the linear approximation is\", round(linear(c),4))\n",
    "print (\"The two values used in the approximation are\", round(x1,4), \"and\", round(x2,4))\n",
    "\n",
    "print(\"The absolute value of the error is\", round((abs(h(x1)-linear(x1))),3), \"at x1 and\", round((abs(h(x1)-linear(x1))),3), \"at x2\" )\n"
   ]
  }
 ],
 "metadata": {
  "kernelspec": {
   "display_name": "Python 3 (ipykernel)",
   "language": "python",
   "name": "python3"
  },
  "language_info": {
   "codemirror_mode": {
    "name": "ipython",
    "version": 3
   },
   "file_extension": ".py",
   "mimetype": "text/x-python",
   "name": "python",
   "nbconvert_exporter": "python",
   "pygments_lexer": "ipython3",
   "version": "3.11.4"
  }
 },
 "nbformat": 4,
 "nbformat_minor": 5
}

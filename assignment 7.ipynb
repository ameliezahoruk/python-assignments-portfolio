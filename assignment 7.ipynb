{
 "cells": [
  {
   "cell_type": "code",
   "execution_count": 1,
   "id": "bc1dfaee-103b-4d64-b228-9b746a8c07af",
   "metadata": {},
   "outputs": [],
   "source": [
    "scores=[92.64,79.00,84.79,97.41,93.68,65.23,84.50,73.49,73.97,79.11]\n",
    "import numpy as np\n",
    "from scipy.special import gamma"
   ]
  },
  {
   "cell_type": "code",
   "execution_count": 2,
   "id": "f63f2e70-876d-4013-94e1-363ab6f178dc",
   "metadata": {},
   "outputs": [
    {
     "data": {
      "text/plain": [
       "10.193467189005581"
      ]
     },
     "execution_count": 2,
     "metadata": {},
     "output_type": "execute_result"
    }
   ],
   "source": [
    "def mean(x): #find the average of the data set\n",
    "    return sum(x[:])/len(x)\n",
    "\n",
    "def standard_deviation(n, average): #takes in the sample size and the mean of the data points\n",
    "    sum=0\n",
    "    for i in scores: #manual integration (summation) part of the standard devation\n",
    "        sum+=(i-average)**2\n",
    "        i=+1\n",
    "    dev=np.sqrt((1/(n-1))*sum) #other algebraic part of this LOL\n",
    "    return dev\n",
    "\n",
    "standard_deviation(len(scores), mean(scores))"
   ]
  },
  {
   "cell_type": "code",
   "execution_count": 3,
   "id": "b97e333d-2ded-4cb5-8958-75c0debd4dfa",
   "metadata": {},
   "outputs": [
    {
     "data": {
      "text/plain": [
       "2.290087686017293"
      ]
     },
     "execution_count": 3,
     "metadata": {},
     "output_type": "execute_result"
    }
   ],
   "source": [
    "def t_not(average, mu_not, stdev, n): #algebraic expression for t_0 using the mean, the null hypothesis, the standard deviation\n",
    "    #of the mean, and the sample size\n",
    "    return ((average-mu_not)/(stdev/np.sqrt(n)))\n",
    "\n",
    "t_not(mean(scores), 75, standard_deviation(len(scores), mean(scores)), len(scores))"
   ]
  },
  {
   "cell_type": "code",
   "execution_count": 4,
   "id": "5a8a24a5-11d7-4f05-8462-4c58434474a9",
   "metadata": {},
   "outputs": [],
   "source": [
    "def t_distribution_pdf(x, nu): #this is the code from greg but it computes the probability density of the t-distribution\n",
    "    #at a given point x with nu degrees of freedom.\n",
    "    coeff = gamma((nu + 1) / 2) / (np.sqrt(nu * np.pi) * gamma(nu / 2)) \n",
    "    density = coeff * (1 + x**2 / nu) ** (-0.5 * (nu + 1))\n",
    "    return density #The probability density at point x for the t-distribution with nu degrees of freedom."
   ]
  },
  {
   "cell_type": "code",
   "execution_count": 5,
   "id": "73ea12b2-ae81-46e1-ac42-4e689ce45380",
   "metadata": {},
   "outputs": [
    {
     "data": {
      "text/plain": [
       "2.2522252225222523"
      ]
     },
     "execution_count": 5,
     "metadata": {},
     "output_type": "execute_result"
    }
   ],
   "source": [
    "def find_t_star(prob, nu, x_start=0, x_end=20, num_points=10000): \n",
    "#Find the t-value t* for a given cumulative probability\n",
    "#and degrees of freedom.\n",
    "# Define the x values\n",
    "    x = np.linspace(x_start, x_end, num_points)\n",
    "# Apply the density function to the x values\n",
    "    y = t_distribution_pdf(x, nu)\n",
    "# This next line is the integration (exercise: why does this work?) \n",
    "    cdf = np.cumsum(y) * (x[1] - x[0])\n",
    "# Find the t-value where the cumulative probability reaches half of the required probability\n",
    "    target_half_prob = prob / 2\n",
    "    index = np.where(cdf >= target_half_prob)[0][0] \n",
    "    return x[index] #float: The t-value t* such that the area between [-t*, t*] equals the given probability.\n",
    "\n",
    "find_t_star(0.95, len(scores)-1, x_start=0, x_end=20, num_points=10000)"
   ]
  },
  {
   "cell_type": "code",
   "execution_count": 6,
   "id": "5e539b29-17f7-4662-9f8a-e75e021df7a1",
   "metadata": {},
   "outputs": [
    {
     "data": {
      "text/plain": [
       "False"
      ]
     },
     "execution_count": 6,
     "metadata": {},
     "output_type": "execute_result"
    }
   ],
   "source": [
    "def t_not_in_interval(t_not, t_star): #finding if t_0 is in [-t*, t*] \n",
    "    if abs(t_not) <= t_star: #if the magnitude of t_0 is is less than or equal to t*, it will lie within the interval\n",
    "        return True\n",
    "    else:\n",
    "        return False\n",
    "\n",
    "t_not_in_interval(t_not(mean(scores), 75, standard_deviation(len(scores), mean(scores)), len(scores)),\n",
    "                  find_t_star(0.95, len(scores)-1, x_start=0, x_end=20, num_points=10000)) #super awesome combo of the functions !"
   ]
  },
  {
   "cell_type": "markdown",
   "id": "8951f7d7-45f1-4b86-b485-e99f1795e0d7",
   "metadata": {},
   "source": [
    "Since $t_0$ is not in [-t*, t*], we have shown that the null hypothesis has been rejected, in that the true mean, mu, does not equal 75. Thus, the difference between the mean score before the teaching techniques and the mean score after has a significant difference. $t_0$ lies outside of the [-t*, t*] positively (i.e. $t_0 > t^*$), so we can say that the statistical evidence suggests the teaching techniques were beneficial, as the true mean of the scores increased. "
   ]
  }
 ],
 "metadata": {
  "kernelspec": {
   "display_name": "Python 3 (ipykernel)",
   "language": "python",
   "name": "python3"
  },
  "language_info": {
   "codemirror_mode": {
    "name": "ipython",
    "version": 3
   },
   "file_extension": ".py",
   "mimetype": "text/x-python",
   "name": "python",
   "nbconvert_exporter": "python",
   "pygments_lexer": "ipython3",
   "version": "3.11.4"
  }
 },
 "nbformat": 4,
 "nbformat_minor": 5
}

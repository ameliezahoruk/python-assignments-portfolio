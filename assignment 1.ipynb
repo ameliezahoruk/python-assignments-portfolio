{
 "cells": [
  {
   "cell_type": "code",
   "execution_count": 3,
   "id": "ef54530e-13ea-4297-8536-094a216b3168",
   "metadata": {},
   "outputs": [
    {
     "name": "stdout",
     "output_type": "stream",
     "text": [
      "Error!\n"
     ]
    }
   ],
   "source": [
    "def approx(x):\n",
    "    n=0\n",
    "    a=0\n",
    "    i=0\n",
    "    error_bound=1\n",
    "    if 0<=x<=1:\n",
    "        while error_bound>0.0001:\n",
    "            error_bound=(x**(2*n+1))/(2*n+1)\n",
    "            n=n+1\n",
    "        for i in range (n-1):\n",
    "            a+=(((-1)**i)*(x**(2*i+1))/(2*i+1))\n",
    "        n=2*i+1\n",
    "        return (a,n,error_bound)\n",
    "    else:\n",
    "        print(\"Error!\")\n",
    "\n",
    "answer = approx(-1)\n",
    "if not answer==None:\n",
    "    print(answer)"
   ]
  }
 ],
 "metadata": {
  "kernelspec": {
   "display_name": "Python 3 (ipykernel)",
   "language": "python",
   "name": "python3"
  },
  "language_info": {
   "codemirror_mode": {
    "name": "ipython",
    "version": 3
   },
   "file_extension": ".py",
   "mimetype": "text/x-python",
   "name": "python",
   "nbconvert_exporter": "python",
   "pygments_lexer": "ipython3",
   "version": "3.11.4"
  }
 },
 "nbformat": 4,
 "nbformat_minor": 5
}
